{
 "cells": [
  {
   "cell_type": "code",
   "execution_count": 86,
   "metadata": {},
   "outputs": [],
   "source": [
    "import tensorflow as tf\n",
    "import keras\n",
    "import pandas as pd\n",
    "import numpy as np\n",
    "import matplotlib.pyplot as plt, matplotlib.image as mpimg\n",
    "%matplotlib inline\n",
    "\n",
    "labeled_images = pd.read_csv('First_assigment_handwritten_digits/train.csv')\n",
    "images = labeled_images.iloc[:,1:]\n",
    "labels = labeled_images.iloc[:,:1]"
   ]
  },
  {
   "cell_type": "code",
   "execution_count": 434,
   "metadata": {},
   "outputs": [],
   "source": [
    "def forward(X, W, b, output_size, lambd = 0):\n",
    "    assert W.shape == (X.shape[1], output_size)\n",
    "    assert b.shape == (1, output_size)\n",
    "    Z = np.dot(X, W) + b\n",
    "    A = np.exp(Z)\n",
    "    s = np.sum(A, axis = 1).reshape((X.shape[0], 1))\n",
    "    A = (A / s) + 1e-15\n",
    "    \n",
    "    return A\n",
    "\n",
    "def backward(X, Y, A):\n",
    "    dZ = A - Y\n",
    "    dW = np.dot(X.T, dZ) / X.shape[0]\n",
    "    db = np.sum(dZ, axis = 0) / X.shape[0]\n",
    "    \n",
    "    return dW, db\n",
    "\n",
    "def update(X, Y, W, b, output_size, learning_rate):\n",
    "    A = forward(X, W, b, output_size)\n",
    "    dW, db = backward(X, Y, A)\n",
    "    \n",
    "    J = -np.trace(np.dot(Y, np.log(A).T)) / X.shape[0]\n",
    "    \n",
    "    return W - learning_rate * dW, b - learning_rate * db, J\n",
    "\n",
    "def predict(X, W, b, output_size):\n",
    "    A = forward(X, W, b, output_size)\n",
    "    return np.argmax(A, axis = 1)"
   ]
  },
  {
   "cell_type": "code",
   "execution_count": 570,
   "metadata": {
    "scrolled": true
   },
   "outputs": [
    {
     "name": "stdout",
     "output_type": "stream",
     "text": [
      "0.9713\n",
      "Wall time: 52.3 s\n"
     ]
    },
    {
     "data": {
      "image/png": "[encoded data removed]",
      "text/plain": [
       "<Figure size 432x288 with 1 Axes>"
      ]
     },
     "metadata": {
      "needs_background": "light"
     },
     "output_type": "display_data"
    }
   ],
   "source": [
    "%%time\n",
    "m = 10000\n",
    "alpha = 0.1\n",
    "lambd = 0\n",
    "minibatch_size = 64\n",
    "iters = 500\n",
    "\n",
    "X = images.values[:m, :] / 256.\n",
    "Y = np.zeros((m, 10), dtype = np.int32)\n",
    "for i in range(m):\n",
    "    Y[i, labels.values[i, :]] = 1\n",
    "\n",
    "W = np.random.rand(X.shape[1], 10)\n",
    "b = np.random.rand(1, 10)\n",
    "\n",
    "scores = np.array([])\n",
    "\n",
    "for epoch in range(iters):\n",
    "    order = np.random.permutation(m)\n",
    "    epoch_score = 0\n",
    "    \n",
    "    for i in range(0, m, minibatch_size):\n",
    "        W, b, J = update(X[order[i : i + minibatch_size],:],\\\n",
    "                         Y[order[i : i + minibatch_size],:],\\\n",
    "                         W, b, 10, alpha)\n",
    "        #epoch_score += J\n",
    "        scores = np.append(scores, J)\n",
    "    \n",
    "print(np.sum(predict(X, W, b, 10) == labels.values[:m, :].reshape((m, ))) / m)\n",
    "plt.plot(scores)"
   ]
  },
  {
   "cell_type": "code",
   "execution_count": 442,
   "metadata": {},
   "outputs": [
    {
     "data": {
      "text/plain": [
       "0.898"
      ]
     },
     "execution_count": 442,
     "metadata": {},
     "output_type": "execute_result"
    }
   ],
   "source": [
    "m_test = 10000\n",
    "X_test = images.values[m : m + m_test, :] / 256.\n",
    "np.sum(predict(X_test, W, b, 10) == labels.values[m : m + m_test, :].reshape((m_test, ))) / m_test"
   ]
  },
  {
   "cell_type": "code",
   "execution_count": 562,
   "metadata": {},
   "outputs": [],
   "source": [
    "def get_model(name):\n",
    "    x = tf.placeholder(tf.float32, [None, 784], name = 'x' + name)\n",
    "    y = tf.placeholder(tf.float32, [None, 10], name = 'y' + name)\n",
    "    out = tf.contrib.layers.fully_connected(x, 10, activation_fn = None)\n",
    "    model = tf.nn.softmax(out)\n",
    "    cost = tf.losses.softmax_cross_entropy(onehot_labels = y, logits = out)\n",
    "    return model, cost"
   ]
  },
  {
   "cell_type": "code",
   "execution_count": 579,
   "metadata": {},
   "outputs": [
    {
     "name": "stdout",
     "output_type": "stream",
     "text": [
      "0.9713\n",
      "Wall time: 1min 36s\n"
     ]
    },
    {
     "data": {
      "image/png": "[encoded data removed]",
      "text/plain": [
       "<Figure size 432x288 with 1 Axes>"
      ]
     },
     "metadata": {
      "needs_background": "light"
     },
     "output_type": "display_data"
    }
   ],
   "source": [
    "%%time\n",
    "import time\n",
    "\n",
    "name = str(time.time())\n",
    "model, cost = get_model(name)\n",
    "optimizer = tf.train.GradientDescentOptimizer(alpha).minimize(cost)\n",
    "init = tf.global_variables_initializer()\n",
    "\n",
    "scores = np.array([])\n",
    "\n",
    "with tf.Session() as sess:\n",
    "    sess.run(init)\n",
    "    for epoch in range(iters):\n",
    "        order = np.random.permutation(m)\n",
    "\n",
    "        for i in range(0, m, minibatch_size):\n",
    "            _, J = sess.run([optimizer, cost], feed_dict = {'x' + name + ':0' : X[order[i : i + minibatch_size],:],\\\n",
    "                                                            'y' + name + ':0' : Y[order[i : i + minibatch_size],:]})\n",
    "            scores = np.append(scores, J)\n",
    "    predictions = sess.run([model], feed_dict = {'x' + name + ':0' : X, 'y' + name + ':0' : Y})[0]\n",
    "print(np.sum(np.argmax(predictions, axis = 1) == np.argmax(Y, axis = 1)) / m)\n",
    "plt.plot(scores)"
   ]
  },
  {
   "cell_type": "code",
   "execution_count": 585,
   "metadata": {},
   "outputs": [
    {
     "data": {
      "text/plain": [
       "0.29954842"
      ]
     },
     "execution_count": 585,
     "metadata": {},
     "output_type": "execute_result"
    }
   ],
   "source": [
    "J"
   ]
  },
  {
   "cell_type": "code",
   "execution_count": null,
   "metadata": {},
   "outputs": [],
   "source": []
  }
 ],
 "metadata": {
  "kernelspec": {
   "display_name": "Python 3",
   "language": "python",
   "name": "python3"
  },
  "language_info": {
   "codemirror_mode": {
    "name": "ipython",
    "version": 3
   },
   "file_extension": ".py",
   "mimetype": "text/x-python",
   "name": "python",
   "nbconvert_exporter": "python",
   "pygments_lexer": "ipython3",
   "version": "3.6.7"
  }
 },
 "nbformat": 4,
 "nbformat_minor": 2
}
