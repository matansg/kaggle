{
 "cells": [
  {
   "cell_type": "code",
   "execution_count": 1,
   "metadata": {},
   "outputs": [
    {
     "name": "stderr",
     "output_type": "stream",
     "text": [
      "Using TensorFlow backend.\n"
     ]
    }
   ],
   "source": [
    "import sys\n",
    "import time\n",
    "import tensorflow as tf\n",
    "import keras\n",
    "import pandas as pd\n",
    "import numpy as np\n",
    "import matplotlib.pyplot as plt, matplotlib.image as mpimg\n",
    "%matplotlib inline\n",
    "\n",
    "labeled_images = pd.read_csv('First_assigment_handwritten_digits/train.csv', nrows = 20000)\n",
    "images = labeled_images.iloc[:,1:]\n",
    "labels = labeled_images.iloc[:,:1]"
   ]
  },
  {
   "cell_type": "code",
   "execution_count": 10,
   "metadata": {
    "scrolled": true
   },
   "outputs": [
    {
     "name": "stdout",
     "output_type": "stream",
     "text": [
      "Epoch #10 ended and took 7.0 seconds\n",
      "Epoch #20 ended and took 6.8 seconds\n",
      "Finished trainingg\n"
     ]
    },
    {
     "data": {
      "text/plain": [
       "[<matplotlib.lines.Line2D at 0x7ff7c9b82b90>]"
      ]
     },
     "execution_count": 10,
     "metadata": {},
     "output_type": "execute_result"
    },
    {
     "data": {
      "image/png": "[encoded data removed]",
      "text/plain": [
       "<Figure size 432x288 with 1 Axes>"
      ]
     },
     "metadata": {
      "needs_background": "light"
     },
     "output_type": "display_data"
    }
   ],
   "source": [
    "def getEqMat(labels):\n",
    "    s = len(labels)\n",
    "    Y = np.zeros((s, s), dtype = np.float64)\n",
    "    for i in range(s):\n",
    "        Y[i, :] = np.float64(labels == labels[i]).reshape(s,)\n",
    "    return Y\n",
    "\n",
    "def get_l2_model(layers, last_layer_activation_fn = None):\n",
    "    x = tf.placeholder(tf.float64, [None, 784])\n",
    "    y = tf.placeholder(tf.float64, [None, None])\n",
    "    \n",
    "    out = x\n",
    "    for layer in layers[:-1]:\n",
    "        out = tf.contrib.layers.fully_connected(out, layer, activation_fn = tf.nn.relu)\n",
    "    out = tf.contrib.layers.fully_connected(out, layers[-1], activation_fn = last_layer_activation_fn)\n",
    "    \n",
    "    dist = tf.matmul(out, tf.transpose(out))\n",
    "    norms = tf.reshape(tf.diag_part(dist), [-1, 1])\n",
    "    dist = (-2*dist + norms) + tf.transpose(norms) + 1e-6\n",
    "    \n",
    "    m = tf.shape(x)[0]\n",
    "    m = m*(m-1) / 2\n",
    "    m = tf.cast(m, tf.float64)\n",
    "    cost = tf.reduce_sum(tf.multiply(y, dist) + tf.divide(1-y, dist))\n",
    "    cost = tf.divide(cost, m)\n",
    "    \n",
    "    return x, y, out, cost\n",
    "\n",
    "\n",
    "m = 10000\n",
    "iters = 20\n",
    "minibatch_size = 32\n",
    "\n",
    "t = 10000\n",
    "\n",
    "X = images.values[:m, :] / 256.\n",
    "Y = labels.values[:m, :]\n",
    "    \n",
    "X_test = images.values[m:m+t, :] / 256.\n",
    "Y_test = labels.values[m:m+t, :]\n",
    "    \n",
    "x, y, out, cost = get_l2_model([50, 50, 10])\n",
    "optimizer = tf.train.AdamOptimizer().minimize(cost)\n",
    "init = tf.global_variables_initializer()\n",
    "\n",
    "scores = np.array([])\n",
    "\n",
    "with tf.Session() as sess:\n",
    "    sess.run(init)\n",
    "    start = time.time()\n",
    "    for epoch in range(iters):\n",
    "        \n",
    "        order = np.random.permutation(m)\n",
    "\n",
    "        for i in range(0, m, minibatch_size):\n",
    "            indices = order[i : i + minibatch_size]\n",
    "            Y_indices = getEqMat(Y[indices])\n",
    "            _, J = sess.run([optimizer, cost], feed_dict = {x : X[indices,:], y : Y_indices})\n",
    "            \n",
    "            scores = np.append(scores, J)\n",
    "        \n",
    "        if epoch % 10 == 9:\n",
    "            end = time.time()\n",
    "            print('Epoch #{} ended and took {:.2} seconds'.format(epoch + 1, end - start))\n",
    "            sys.stdout.flush()\n",
    "            start = time.time()\n",
    "    print('Finished trainingg')\n",
    "    \n",
    "    m_predictions, = sess.run([out], feed_dict = {x : X})\n",
    "    t_predictions, = sess.run([out], feed_dict = {x : X_test})\n",
    "plt.plot(scores)"
   ]
  },
  {
   "cell_type": "code",
   "execution_count": 12,
   "metadata": {},
   "outputs": [
    {
     "name": "stdout",
     "output_type": "stream",
     "text": [
      "Train prediction rate = 99.5%\n",
      "Test prediction rate = 94.11%\n"
     ]
    }
   ],
   "source": [
    "p = np.array([m_predictions[np.where(Y == i)[0][0], :] for i in range(10)])\n",
    "\n",
    "m_pred = np.array([])\n",
    "for u in range(X.shape[0]):\n",
    "    m_pred = np.append(m_pred, np.argmin(np.linalg.norm(p - m_predictions[u, :], axis = 1)))\n",
    "m_pred = m_pred.reshape(-1, 1)\n",
    "\n",
    "t_pred = np.array([])\n",
    "for u in range(X_test.shape[0]):\n",
    "    t_pred = np.append(t_pred, np.argmin(np.linalg.norm(p - t_predictions[u, :], axis = 1)))\n",
    "t_pred = t_pred.reshape(-1, 1)\n",
    "\n",
    "print('Train prediction rate = {}%'.format(100.0*np.sum(m_pred == Y) / len(Y)))\n",
    "print('Test prediction rate = {}%'.format(100.0*np.sum(t_pred == Y_test) / len(Y_test)))"
   ]
  },
  {
   "cell_type": "code",
   "execution_count": null,
   "metadata": {},
   "outputs": [],
   "source": []
  }
 ],
 "metadata": {
  "kernelspec": {
   "display_name": "Python 2",
   "language": "python",
   "name": "python2"
  },
  "language_info": {
   "codemirror_mode": {
    "name": "ipython",
    "version": 2
   },
   "file_extension": ".py",
   "mimetype": "text/x-python",
   "name": "python",
   "nbconvert_exporter": "python",
   "pygments_lexer": "ipython2",
   "version": "2.7.15"
  }
 },
 "nbformat": 4,
 "nbformat_minor": 2
}
