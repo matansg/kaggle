{
 "cells": [
  {
   "cell_type": "code",
   "execution_count": 77,
   "metadata": {},
   "outputs": [],
   "source": [
    "#import tensorflow as tf\n",
    "import keras\n",
    "import pandas as pd\n",
    "import numpy as np\n",
    "import matplotlib.pyplot as plt, matplotlib.image as mpimg\n",
    "import cupy as cp\n",
    "%matplotlib inline\n",
    "from skimage import data\n",
    "from skimage.transform import rotate\n",
    "\n",
    "labeled_images = pd.read_csv('train.csv')\n",
    "images = labeled_images.iloc[:,1:]\n",
    "labels = labeled_images.iloc[:,:1]\n",
    "labeled_images_test = pd.read_csv('test.csv')\n",
    "images_test = labeled_images_test.iloc[:,:]\n",
    "\n",
    "m_cut_test=30000\n",
    "X = images.values[:m_cut_test, :]/256.\n",
    "picture=np.reshape(X[:,:],(X.shape[0],28,28))\n",
    "pictures2=np.zeros((X.shape[0],28,28))\n",
    "for i in range(X.shape[0]):\n",
    "    pictures2[i,:,:]= rotate(picture[i,:,:], angle=np.random.uniform(-20, 20),resize=False, mode='constant')\n",
    "\n",
    "X_augmented=np.reshape(pictures2,(X.shape[0],784))\n",
    "\n"
   ]
  },
  {
   "cell_type": "code",
   "execution_count": 43,
   "metadata": {},
   "outputs": [],
   "source": [
    "\n",
    "\n",
    "#non linear function and der\n",
    "def relu(x):\n",
    "    return np.maximum(0,x)\n",
    "\n",
    "def relu_dev(x):\n",
    "    return (x>0)*1\n",
    "\n",
    "def softmax(x):\n",
    "    A = np.exp(x)\n",
    "    s = np.sum(A, axis = 1).reshape((A.shape[0], 1))\n",
    "    A = np.divide(A , s) + 1e-15\n",
    "    return A\n",
    "\n",
    "def softmax_dev(x):\n",
    "    return (1-x)*x\n",
    "\n",
    "def log_loss(A,Y):\n",
    "     return (-np.trace(np.dot(Y, np.log(A).T)) / Y.shape[0])\n",
    "    \n",
    "def log_loss_dev(A,Y):\n",
    "    return (-(Y/A)+(1-Y)/(1-A))\n",
    "#-----------------------start here:--------------------------\n",
    "def create_matrix(X, num_layers):\n",
    "#This function caculation A_out with linear,non linear function\n",
    "    W_all=[]\n",
    "    b_all=[]\n",
    "    \n",
    "    W = np.random.rand(X.shape[1],num_layers[0])*0.001\n",
    "    b = np.random.rand(1,num_layers[0])*0.001\n",
    "    W_all.append(W)\n",
    "    b_all.append(b)\n",
    "    for i in range(np.size(num_layers)-1):\n",
    "        W = np.random.rand(num_layers[i],num_layers[i+1])*0.001\n",
    "        b = np.random.rand(1,num_layers[i+1])*0.001\n",
    "        W_all.append(W)\n",
    "        b_all.append(b)\n",
    "    \n",
    "    \n",
    "    return W_all,b_all\n",
    "\n",
    "    \n",
    "def forward(A_past, W, b, catches, activ_func):\n",
    "#This function caculation A_out with linear,non linear function\n",
    "    Z = np.dot(A_past,W) + b\n",
    "    catches.append(A_past)\n",
    "    catches.append(Z)\n",
    "    if activ_func==\"relu\" :\n",
    "        A=relu(Z)\n",
    "        \n",
    "    if activ_func==\"softmax\" :  \n",
    "        A = softmax(Z)\n",
    "    return A,catches\n",
    "\n",
    "def backward(da_forward, W, b, catches,Layer,active_func,lamda,m):\n",
    "   \n",
    "\n",
    "    A_past=catches[2*Layer]\n",
    "    #m=A_past.shape[0]\n",
    "    Z_L=catches[2*Layer+1]\n",
    "    if active_func==\"relu\" :\n",
    "        dev_func=relu_dev(Z_L)\n",
    "    if active_func==\"softmax\" : \n",
    "        dev_func=softmax_dev(softmax(Z_L))\n",
    "        \n",
    "            \n",
    "    dZ = da_forward*dev_func\n",
    "    \n",
    "    dW = (np.dot(A_past.T,dZ)+lamda*np.sum(np.absolute(W)))/m\n",
    "    db = np.sum(dZ, axis = 0) /m\n",
    "    \n",
    "    dA_now=np.dot(dZ,W.T)\n",
    "    \n",
    "    return dW, db, dA_now\n",
    "\n",
    "def forward_propogation(A_prev, W, b, type_layers):\n",
    "    catches=[]\n",
    "\n",
    "    for i in range(np.size(type_layers)):\n",
    "        W_now=W[i]\n",
    "        b_now=b[i]\n",
    "        [A_prev,catches] = forward(A_prev, W_now, b_now,catches,type_layers[i]) \n",
    "    return A_prev,catches\n",
    "\n",
    "def backword_propogation(Y, A, W, b, type_layers,loss_func,catches,learning_rate,lamda):\n",
    "    dW_all=[]\n",
    "    db_all=[]\n",
    "    m=Y.shape[0]\n",
    "    if loss_func==\"Logloss\":\n",
    "        da=log_loss_dev(A,Y)   \n",
    "    for i in range(np.size(type_layers),0,-1):\n",
    "        [dW, db, da]=backward(da, W[i-1], b[i-1],catches,i-1,type_layers[i-1],lamda,m)\n",
    "        #print(np.sum(dz-(A-Y)))\n",
    "        W[i-1]=W[i-1]-learning_rate*dW\n",
    "        b[i-1]=b[i-1]-learning_rate*db\n",
    "    \n",
    "    return W,b\n",
    "\n",
    "def update(X,Y, W, b, type_layers,loss_func,learning_rate,lamda):\n",
    "    [A,catches]=forward_propogation(X, W, b, type_layers)\n",
    "    J=log_loss(A,Y)\n",
    "    regularization=0\n",
    "    for i in range(np.size(type_layers),0,-1):\n",
    "        regularization+=np.sum((np.absolute(W[i-1])**2))\n",
    "    \n",
    "    regularization=(lamda*regularization)/(2*X.shape[0])\n",
    "    \n",
    "    \n",
    "    J=J+regularization\n",
    "    [W,b]=backword_propogation(Y, A, W, b, type_layers,loss_func,catches,learning_rate,lamda)\n",
    "    \n",
    "    return W, b, J\n",
    "\n",
    "\n",
    "def predict(X, W, b, type_layers):\n",
    "    A = forward_propogation(X, W, b, type_layers)\n",
    "    return np.argmax(A, axis = 1)"
   ]
  },
  {
   "cell_type": "code",
   "execution_count": 87,
   "metadata": {},
   "outputs": [
    {
     "name": "stdout",
     "output_type": "stream",
     "text": [
      "0.9983333333333333\n"
     ]
    },
    {
     "data": {
      "image/png": "[encoded data removed]",
      "text/plain": [
       "<Figure size 432x288 with 1 Axes>"
      ]
     },
     "metadata": {
      "needs_background": "light"
     },
     "output_type": "display_data"
    }
   ],
   "source": [
    "\n",
    "#m = 32000\n",
    "learning_rate = 0.3\n",
    "minibatch_size = 256\n",
    "iters = 25\n",
    "lamda=0\n",
    "keep_prob=0.8\n",
    "\n",
    "m=X.shape[0]\n",
    "\n",
    "Y = np.zeros((m, 10), dtype = np.int32)\n",
    "for i in range(m):\n",
    "    Y[i, labels.values[i, :]] = 1\n",
    "\n",
    "\n",
    "loss_func=\"Logloss\"    \n",
    "number_layers=[400,100,10]\n",
    "type_layers=[\"relu\",\"relu\",\"softmax\"]\n",
    "[W,b]=create_matrix(X, number_layers)\n",
    "J_all=[]\n",
    "for epoch in range(iters):\n",
    "    order = np.random.permutation(m)\n",
    "    epoch_score = 0\n",
    "    prob=np.random.uniform(low=keep_prob, high=1.0)\n",
    "    d3=np.random.rand(X.shape[0],X.shape[1])<prob\n",
    "    X_reduced=np.multiply(X,d3)\n",
    "    X_reduced=X_reduced/prob\n",
    "    for i in range(0, m, minibatch_size):\n",
    "        \n",
    "        [W, b, J]=update(X_reduced[order[i : i + minibatch_size],:],Y[order[i : i + minibatch_size],:],\\\n",
    "                         W, b, type_layers,loss_func,(0.99**epoch)*learning_rate,lamda)\n",
    "        J_all.append(J)\n",
    "        #augmanted pictures\n",
    "        [W, b, J]=update(X_augmented[order[i : i + minibatch_size],:],Y[order[i : i + minibatch_size],:],\\\n",
    "                         W, b, type_layers,loss_func,(0.99**epoch)*learning_rate,lamda)\n",
    "        \n",
    "        J_all.append(J)\n",
    "    \n",
    "plt.plot(J_all)\n",
    "[A,catches]=forward_propogation(X, W, b, type_layers)\n",
    "print(np.sum(np.argmax(A, axis = 1) == labels.values[:m, :].reshape((m, ))) / m)\n"
   ]
  },
  {
   "cell_type": "code",
   "execution_count": 86,
   "metadata": {},
   "outputs": [
    {
     "name": "stdout",
     "output_type": "stream",
     "text": [
      "2.7583333333333293\n"
     ]
    }
   ],
   "source": [
    "X_check = images.values[m_cut_test:, :] / 256.\n",
    "m_new=X_check.shape[0]\n",
    "[A,catches]=forward_propogation(X_check, W, b, type_layers)\n",
    "print((1-np.sum(np.argmax(A, axis = 1) == labels.values[m_cut_test:, :].reshape((m_new, ))) / m_new)*100)"
   ]
  },
  {
   "cell_type": "markdown",
   "metadata": {},
   "source": [
    "images_test\n"
   ]
  },
  {
   "cell_type": "code",
   "execution_count": 54,
   "metadata": {},
   "outputs": [],
   "source": [
    "X = images_test.values[:, :] / 256.\n",
    "[A_predict,catches]=forward_propogation(X, W, b, type_layers)\n",
    "Y_predict=np.argmax(A_predict, axis = 1).reshape(A_predict.shape[0],1) \n"
   ]
  },
  {
   "cell_type": "code",
   "execution_count": 55,
   "metadata": {},
   "outputs": [],
   "source": [
    "\n",
    "df = pd.DataFrame(Y_predict[:,0],columns = ['Label'])\n",
    "df.index = df.index + 1\n",
    "df.to_csv('predict3.csv',index=True,index_label='ImageId')"
   ]
  },
  {
   "cell_type": "code",
   "execution_count": 604,
   "metadata": {},
   "outputs": [
    {
     "name": "stdout",
     "output_type": "stream",
     "text": [
      "(28000, 1)\n"
     ]
    }
   ],
   "source": []
  },
  {
   "cell_type": "code",
   "execution_count": 660,
   "metadata": {},
   "outputs": [
    {
     "data": {
      "text/plain": [
       "[<matplotlib.lines.Line2D at 0x1c74f8d0>]"
      ]
     },
     "execution_count": 660,
     "metadata": {},
     "output_type": "execute_result"
    },
    {
     "data": {
      "image/png": "[encoded data removed]",
      "text/plain": [
       "<Figure size 432x288 with 1 Axes>"
      ]
     },
     "metadata": {
      "needs_background": "light"
     },
     "output_type": "display_data"
    }
   ],
   "source": []
  },
  {
   "cell_type": "code",
   "execution_count": 664,
   "metadata": {},
   "outputs": [
    {
     "data": {
      "text/plain": [
       "0.8768389778300281"
      ]
     },
     "execution_count": 664,
     "metadata": {},
     "output_type": "execute_result"
    }
   ],
   "source": [
    "np.random.uniform(low=0.8, high=1.0)"
   ]
  },
  {
   "cell_type": "code",
   "execution_count": 35,
   "metadata": {},
   "outputs": [
    {
     "name": "stdout",
     "output_type": "stream",
     "text": [
      "(42000, 28, 28)\n"
     ]
    },
    {
     "data": {
      "image/png": "[encoded data removed]",
      "text/plain": [
       "<Figure size 432x288 with 1 Axes>"
      ]
     },
     "metadata": {
      "needs_background": "light"
     },
     "output_type": "display_data"
    },
    {
     "data": {
      "text/plain": [
       "<matplotlib.image.AxesImage at 0x1172ee10>"
      ]
     },
     "execution_count": 35,
     "metadata": {},
     "output_type": "execute_result"
    },
    {
     "data": {
      "image/png": "[encoded data removed]",
      "text/plain": [
       "<Figure size 432x288 with 1 Axes>"
      ]
     },
     "metadata": {
      "needs_background": "light"
     },
     "output_type": "display_data"
    }
   ],
   "source": [
    "\n",
    "\n",
    "print(picture.shape)\n",
    "plt.imshow(picture[0,:,:], interpolation='nearest')\n",
    "plt.show()\n",
    "picture2 = rotate(picture[0,:,:], angle=np.random.uniform(-90, 90),resize=False, mode='constant')\n",
    "plt.imshow(picture2, interpolation='nearest')\n",
    "\n"
   ]
  },
  {
   "cell_type": "code",
   "execution_count": null,
   "metadata": {},
   "outputs": [],
   "source": []
  }
 ],
 "metadata": {
  "kernelspec": {
   "display_name": "Python 3",
   "language": "python",
   "name": "python3"
  },
  "language_info": {
   "codemirror_mode": {
    "name": "ipython",
    "version": 3
   },
   "file_extension": ".py",
   "mimetype": "text/x-python",
   "name": "python",
   "nbconvert_exporter": "python",
   "pygments_lexer": "ipython3",
   "version": "3.6.7"
  }
 },
 "nbformat": 4,
 "nbformat_minor": 2
}
