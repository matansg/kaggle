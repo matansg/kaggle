{
 "cells": [
  {
   "cell_type": "code",
   "execution_count": null,
   "metadata": {},
   "outputs": [],
   "source": [
    "from keras import layers\n",
    "from keras.layers import Input, Dense, Activation, ZeroPadding2D, BatchNormalization, Flatten, Conv2D\n",
    "from keras.layers import AveragePooling2D, MaxPooling2D, Dropout, GlobalMaxPooling2D, GlobalAveragePooling2D\n",
    "from keras.models import Model\n",
    "from keras.preprocessing import image\n",
    "from keras.utils import layer_utils\n",
    "from keras.utils.data_utils import get_file\n",
    "from keras.applications.imagenet_utils import preprocess_input\n",
    "\n",
    "import pandas as pd\n",
    "import numpy as np\n",
    "import matplotlib.pyplot as plt, matplotlib.image as mpimg\n",
    "%matplotlib inline\n",
    "from skimage import data\n",
    "from skimage.transform import rotate\n",
    "import tensorflow as tf"
   ]
  },
  {
   "cell_type": "code",
   "execution_count": 25,
   "metadata": {},
   "outputs": [],
   "source": [
    "labeled_images = pd.read_csv('train.csv')\n",
    "images = labeled_images.iloc[:,1:]\n",
    "labels = labeled_images.iloc[:,:1]\n",
    "labeled_images_test = pd.read_csv('test.csv')\n",
    "images_test = labeled_images_test.iloc[:,:]\n",
    "\n",
    "m_cut_test=30000\n",
    "X = images.values[:m_cut_test, :]/256.\n",
    "Y = np.zeros((m_cut_test, 10), dtype = np.int32)\n",
    "X_test=images.values[m_cut_test:, :]/256.\n",
    "Y_test = np.zeros((images.values.shape[0]-m_cut_test, 10), dtype = np.int32)\n",
    "\n",
    "for i in range(images.values.shape[0]):\n",
    "    if i<m_cut_test:\n",
    "        Y[i, labels.values[i, :]] = 1\n",
    "    else:\n",
    "        Y_test[i-m_cut_test, labels.values[i, :]] = 1\n",
    "    \n",
    "picture=np.reshape(X[:,:],(X.shape[0],28,28))\n",
    "pictures2=np.zeros((X.shape[0],28,28))\n",
    "for i in range(X.shape[0]):\n",
    "    pictures2[i,:,:]= rotate(picture[i,:,:], angle=np.random.uniform(-20, 20),resize=False, mode='constant')\n",
    "\n",
    "#------------for creating fully connected NN classifier---------------------\n",
    "#X_augmented=np.reshape(pictures2,(X.shape[0],784))\n",
    "#X_all=np.concatenate((X,X_augmented),axis=0)\n",
    "X_test_all=np.reshape(X_test,(X_test.shape[0],28,28,1))\n",
    "X_all=np.concatenate((picture,pictures2),axis=0)\n",
    "X_all=np.reshape(X_all,(X_all.shape[0],X_all.shape[1],X_all.shape[2],1))\n",
    "Y_all=np.concatenate((Y,Y))\n"
   ]
  },
  {
   "cell_type": "code",
   "execution_count": 32,
   "metadata": {},
   "outputs": [],
   "source": [
    "#LeNet-5 with keras\n",
    "\n",
    "def model(input_shape):\n",
    "    # Define the input placeholder as a tensor with shape input_shape. Think of this as your input image!\n",
    "    X_input = Input(input_shape)\n",
    "\n",
    "    # Zero-Padding: pads the border of X_input with zeroes to make it LeNet-5 (32,32,3)\n",
    "    X = ZeroPadding2D((2, 2))(X_input)\n",
    "\n",
    "    # one-conv\n",
    "    X = Conv2D(8, (5, 5), strides = (1, 1), name = 'conv0')(X)\n",
    "    X = MaxPooling2D((2, 2), name='max_pool0')(X)    \n",
    "    X = BatchNormalization(axis = 3, name = 'bn0')(X)\n",
    "    X = Activation('relu')(X)\n",
    "    \n",
    "    #two-conv\n",
    "    X = Conv2D(16, (5, 5), strides = (1, 1), name = 'conv1')(X)\n",
    "    X = MaxPooling2D((2, 2),strides=2 ,name='max_pool1')(X)    \n",
    "    X = BatchNormalization(axis = 3, name = 'bn1')(X)\n",
    "    X = Activation('relu')(X)\n",
    "    \n",
    "    \n",
    "\n",
    "    # FLATTEN X (means convert it to a vector) + FULLYCONNECTED\n",
    "    X = Flatten()(X)\n",
    "    X = Dense(120, activation='relu', name='fc0')(X)\n",
    "    X = Dense(84, activation='relu', name='fc1')(X)\n",
    "    X = Dense(10, activation='softmax', name='fc2')(X)\n",
    "    # Create model. This creates your Keras model instance, you'll use this instance to train/test the model.\n",
    "    model = Model(inputs = X_input, outputs = X, name='HappyModel')\n",
    "\n",
    "    return model"
   ]
  },
  {
   "cell_type": "code",
   "execution_count": 33,
   "metadata": {},
   "outputs": [
    {
     "name": "stdout",
     "output_type": "stream",
     "text": [
      "Epoch 1/10\n",
      "60000/60000 [==============================] - 43s 708us/step - loss: 0.0031 - acc: 0.9539\n",
      "Epoch 2/10\n",
      "60000/60000 [==============================] - 42s 697us/step - loss: 0.0015 - acc: 0.9793\n",
      "Epoch 3/10\n",
      "60000/60000 [==============================] - 42s 695us/step - loss: 0.0011 - acc: 0.9846\n",
      "Epoch 4/10\n",
      "60000/60000 [==============================] - 42s 696us/step - loss: 9.4351e-04 - acc: 0.9873\n",
      "Epoch 5/10\n",
      "60000/60000 [==============================] - 42s 695us/step - loss: 7.9317e-04 - acc: 0.9890\n",
      "Epoch 6/10\n",
      "60000/60000 [==============================] - 42s 697us/step - loss: 6.8534e-04 - acc: 0.9907\n",
      "Epoch 7/10\n",
      "60000/60000 [==============================] - 42s 694us/step - loss: 7.0883e-04 - acc: 0.9905\n",
      "Epoch 8/10\n",
      "60000/60000 [==============================] - 42s 697us/step - loss: 6.8244e-04 - acc: 0.9908\n",
      "Epoch 9/10\n",
      "60000/60000 [==============================] - 42s 698us/step - loss: 6.0710e-04 - acc: 0.9919\n",
      "Epoch 10/10\n",
      "60000/60000 [==============================] - 42s 695us/step - loss: 5.7980e-04 - acc: 0.9922\n"
     ]
    },
    {
     "data": {
      "text/plain": [
       "<keras.callbacks.History at 0x3fa8be80>"
      ]
     },
     "execution_count": 33,
     "metadata": {},
     "output_type": "execute_result"
    }
   ],
   "source": [
    "happyModel=model(input_shape=(28, 28,1))\n",
    "happyModel.compile(optimizer = \"Adam\", loss = \"logcosh\", metrics = [\"accuracy\"])\n",
    "happyModel.fit(x = X_all, y = Y_all, epochs = 10, batch_size = 16)"
   ]
  },
  {
   "cell_type": "code",
   "execution_count": 34,
   "metadata": {},
   "outputs": [
    {
     "name": "stdout",
     "output_type": "stream",
     "text": [
      "12000/12000 [==============================] - 2s 183us/step\n",
      "Loss = 0.001076029833518143\n",
      "Test Accuracy = 0.9858333333333333\n"
     ]
    }
   ],
   "source": [
    "preds = happyModel.evaluate(x = X_test_all, y = Y_test)\n",
    "print (\"Loss = \" + str(preds[0]))\n",
    "print (\"Test Accuracy = \" + str(preds[1]))"
   ]
  },
  {
   "cell_type": "code",
   "execution_count": 31,
   "metadata": {},
   "outputs": [
    {
     "name": "stdout",
     "output_type": "stream",
     "text": [
      "_________________________________________________________________\n",
      "Layer (type)                 Output Shape              Param #   \n",
      "=================================================================\n",
      "input_3 (InputLayer)         (None, 28, 28, 1)         0         \n",
      "_________________________________________________________________\n",
      "zero_padding2d_3 (ZeroPaddin (None, 32, 32, 1)         0         \n",
      "_________________________________________________________________\n",
      "conv0 (Conv2D)               (None, 28, 28, 8)         208       \n",
      "_________________________________________________________________\n",
      "max_pool0 (MaxPooling2D)     (None, 14, 14, 8)         0         \n",
      "_________________________________________________________________\n",
      "bn0 (BatchNormalization)     (None, 14, 14, 8)         32        \n",
      "_________________________________________________________________\n",
      "activation_5 (Activation)    (None, 14, 14, 8)         0         \n",
      "_________________________________________________________________\n",
      "conv1 (Conv2D)               (None, 10, 10, 8)         1608      \n",
      "_________________________________________________________________\n",
      "max_pool1 (MaxPooling2D)     (None, 5, 5, 8)           0         \n",
      "_________________________________________________________________\n",
      "bn1 (BatchNormalization)     (None, 5, 5, 8)           32        \n",
      "_________________________________________________________________\n",
      "activation_6 (Activation)    (None, 5, 5, 8)           0         \n",
      "_________________________________________________________________\n",
      "flatten_3 (Flatten)          (None, 200)               0         \n",
      "_________________________________________________________________\n",
      "fc0 (Dense)                  (None, 120)               24120     \n",
      "_________________________________________________________________\n",
      "fc1 (Dense)                  (None, 84)                10164     \n",
      "_________________________________________________________________\n",
      "fc2 (Dense)                  (None, 10)                850       \n",
      "=================================================================\n",
      "Total params: 37,014\n",
      "Trainable params: 36,982\n",
      "Non-trainable params: 32\n",
      "_________________________________________________________________\n"
     ]
    }
   ],
   "source": [
    "happyModel.summary()"
   ]
  },
  {
   "cell_type": "code",
   "execution_count": 35,
   "metadata": {},
   "outputs": [
    {
     "name": "stdout",
     "output_type": "stream",
     "text": [
      "(28000, 28, 28, 1)\n"
     ]
    }
   ],
   "source": [
    "X_test_eval= images_test.values[:, :] / 256.\n",
    "X_test_eval=np.reshape(X_test_eval,(X_test_eval.shape[0],28,28,1))\n",
    "print(X_test_eval.shape)"
   ]
  },
  {
   "cell_type": "code",
   "execution_count": 36,
   "metadata": {},
   "outputs": [],
   "source": [
    "Y=happyModel.predict(X_test_eval)"
   ]
  },
  {
   "cell_type": "code",
   "execution_count": 40,
   "metadata": {},
   "outputs": [
    {
     "name": "stdout",
     "output_type": "stream",
     "text": [
      "(28000, 1)\n"
     ]
    }
   ],
   "source": [
    "Y_predict=np.argmax(Y, axis = 1).reshape(Y.shape[0],1) \n",
    "print(Y_predict.shape)\n",
    "\n",
    "df = pd.DataFrame(Y_predict[:,0],columns = ['Label'])\n",
    "df.index = df.index + 1\n",
    "df.to_csv('predict_LeNet_5.csv',index=True,index_label='ImageId')"
   ]
  },
  {
   "cell_type": "code",
   "execution_count": null,
   "metadata": {},
   "outputs": [],
   "source": []
  }
 ],
 "metadata": {
  "kernelspec": {
   "display_name": "Python 3",
   "language": "python",
   "name": "python3"
  },
  "language_info": {
   "codemirror_mode": {
    "name": "ipython",
    "version": 3
   },
   "file_extension": ".py",
   "mimetype": "text/x-python",
   "name": "python",
   "nbconvert_exporter": "python",
   "pygments_lexer": "ipython3",
   "version": "3.6.7"
  }
 },
 "nbformat": 4,
 "nbformat_minor": 2
}
