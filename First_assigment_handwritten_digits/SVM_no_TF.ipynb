{
 "cells": [
  {
   "cell_type": "code",
   "execution_count": 228,
   "metadata": {},
   "outputs": [],
   "source": [
    "import keras\n",
    "import pandas as pd\n",
    "import numpy as np\n",
    "import matplotlib.pyplot as plt, matplotlib.image as mpimg\n",
    "%matplotlib inline\n",
    "\n",
    "train_labeled_images = pd.read_csv('train.csv')\n",
    "test_labeled_images = pd.read_csv('test.csv')\n",
    "\n",
    "images = train_labeled_images.iloc[:,1:]\n",
    "labels = train_labeled_images.iloc[:,:1]\n",
    "\n",
    "images_test= test_labeled_images.iloc[:,1:]\n",
    "labels_test= test_labeled_images.iloc[:,:1]\n",
    "\n",
    "m_train=images.values.shape[0]\n",
    "m_test=images_test.values.shape[0]"
   ]
  },
  {
   "cell_type": "code",
   "execution_count": 1,
   "metadata": {},
   "outputs": [],
   "source": [
    "def Create_variables(X):\n",
    "    W = np.random.rand(X.shape[1], 10)\n",
    "    b = np.random.rand(1, 10)\n",
    "\n",
    "    return W,b\n",
    "\n",
    "\n",
    "def Forword(X,Y,W,b):\n",
    "    Yhat=1-Y*(np.dot(X,W)+b)\n",
    "    Yhat=np.maximum(Yhat, 0)\n",
    "    return Yhat\n",
    "\n",
    "def Backword(Yhat,Y,X,W,b,learning_rate,lamda):\n",
    "    o_H_v=cp.minimum((Yhat),1)\n",
    "\n",
    "    dw=-(cp.dot((X).T,Y*o_H_v))\n",
    "    db=cp.sum((o_H_v*Y),axis=0)\n",
    "\n",
    "    dW=(dw+cp.sum(lamda*np.absolute(W)))/(Yhat.shape[0])\n",
    "    dB=(db/(Yhat.shape[0]))\n",
    "    \n",
    "    W=W-learning_rate*dW\n",
    "    b=b-learning_rate*dB\n",
    "    return W,b\n",
    "\n",
    "def update(X,Y,W,b,learning_rate,lamda):\n",
    "    #W=np.reshape(W,(W.shape[0],1))\n",
    "    #Y=np.reshape(Y,(Y.shape[0],1))\n",
    "    #b=np.reshape(b,(b.shape[0],1))\n",
    "    Yhat=Forword(X,Y,W,b)\n",
    "    [W,b]=Backword(Yhat,Y,X,W,b,learning_rate,lamda)\n",
    "    cost=Cost_func(Yhat,W,lamda)\n",
    "    return W,b,cost\n",
    "\n",
    "def Cost_func(Yhat,W,lamda):\n",
    "    Cost=(cp.sum(Yhat,axis=0))/(Yhat.shape[0])+np.sum(lamda*np.absolute(W)**2)/(2*Yhat.shape[0])\n",
    "    Cost=(cp.sum(Cost,axis=0))\n",
    "\n",
    "    return Cost\n",
    "def predict(X, W, b):\n",
    "    A = (cp.dot(X,W)+b)\n",
    "    return np.argmax(A, axis = 1)"
   ]
  },
  {
   "cell_type": "code",
   "execution_count": 250,
   "metadata": {},
   "outputs": [
    {
     "name": "stdout",
     "output_type": "stream",
     "text": [
      "0.8473095238095238\n"
     ]
    },
    {
     "data": {
      "image/png": "[encoded data removed]",
      "text/plain": [
       "<Figure size 432x288 with 1 Axes>"
      ]
     },
     "metadata": {
      "needs_background": "light"
     },
     "output_type": "display_data"
    }
   ],
   "source": [
    "m_for_train=int((m_train))\n",
    "m_for_test=int((m_test))\n",
    "\n",
    "learning_rate = 0.1\n",
    "lamda =0\n",
    "minibatch_size =1024\n",
    "iters =100\n",
    "\n",
    "X_train = images.values[:m_for_train, :] / 256.\n",
    "Y_train = -1*np.ones((m_for_train, 10), dtype = np.int32)\n",
    "\n",
    "\n",
    "X_test  = images_test.values[:, :] / 256.\n",
    "Y_test  = -1*np.ones((m_for_test, 10), dtype = np.int32)\n",
    "\n",
    "for i in range(m_for_train):\n",
    "    Y_train[i, labels.values[i, :]] = 1\n",
    "    \n",
    "for j in range(m_for_test):\n",
    "    Y_test [j, labels_test.values[j, :]] = 1\n",
    "\n",
    "[W,b]=Create_variables(X_train)\n",
    "\n",
    "scores = np.array([])\n",
    "J=0\n",
    "for epoch in range(iters):\n",
    "    order = np.random.permutation(m_for_train)\n",
    "    epoch_score = 0\n",
    "    \n",
    "    for i in range(0, m_for_train, minibatch_size):\n",
    "        \n",
    "            \n",
    "        W, b, J = update(X_train[order[i : i + minibatch_size],:],\\\n",
    "                         Y_train[order[i : i + minibatch_size],:],\\\n",
    "                         W, b, (0.9995**epoch)*learning_rate, lamda )\n",
    "            \n",
    "        #epoch_score += J\n",
    "        \n",
    "        scores = np.append(scores, J)\n",
    "\n",
    "plt.plot(scores)    \n",
    "\n",
    "print(np.sum(predict(X_train , W, b) == labels.values[:,0]) / m_for_train)\n"
   ]
  },
  {
   "cell_type": "code",
   "execution_count": null,
   "metadata": {},
   "outputs": [],
   "source": []
  },
  {
   "cell_type": "code",
   "execution_count": null,
   "metadata": {},
   "outputs": [],
   "source": []
  },
  {
   "cell_type": "code",
   "execution_count": null,
   "metadata": {},
   "outputs": [],
   "source": []
  },
  {
   "cell_type": "code",
   "execution_count": null,
   "metadata": {},
   "outputs": [],
   "source": []
  },
  {
   "cell_type": "code",
   "execution_count": null,
   "metadata": {},
   "outputs": [],
   "source": []
  },
  {
   "cell_type": "code",
   "execution_count": null,
   "metadata": {},
   "outputs": [],
   "source": []
  },
  {
   "cell_type": "code",
   "execution_count": null,
   "metadata": {},
   "outputs": [],
   "source": []
  },
  {
   "cell_type": "code",
   "execution_count": null,
   "metadata": {},
   "outputs": [],
   "source": []
  }
 ],
 "metadata": {
  "kernelspec": {
   "display_name": "Python 3",
   "language": "python",
   "name": "python3"
  },
  "language_info": {
   "codemirror_mode": {
    "name": "ipython",
    "version": 3
   },
   "file_extension": ".py",
   "mimetype": "text/x-python",
   "name": "python",
   "nbconvert_exporter": "python",
   "pygments_lexer": "ipython3",
   "version": "3.6.7"
  }
 },
 "nbformat": 4,
 "nbformat_minor": 2
}
