{
 "cells": [
  {
   "cell_type": "code",
   "execution_count": 1,
   "metadata": {},
   "outputs": [
    {
     "name": "stderr",
     "output_type": "stream",
     "text": [
      "Using TensorFlow backend.\n"
     ]
    }
   ],
   "source": [
    "import tensorflow as tf\n",
    "import keras\n",
    "import pandas as pd\n",
    "import numpy as np\n",
    "import matplotlib.pyplot as plt, matplotlib.image as mpimg\n",
    "%matplotlib inline\n",
    "\n",
    "labeled_images = pd.read_csv('train.csv')\n",
    "images = labeled_images.iloc[:,1:]\n",
    "labels = labeled_images.iloc[:,:1]\n",
    "def relu(x):\n",
    "    return np.maximum(0,x)\n",
    "def relu_dev(x):\n",
    "    return np.maximum(0,np.sign(x))\n",
    "def softmax(x):\n",
    "    A = np.exp(x)\n",
    "    s = np.sum(x, axis = 1).reshape((A.shape[0], 1))\n",
    "    A = (A / s) + 1e-15\n",
    "    return A\n",
    "def softmax_dev(A_froward,Y):\n",
    "    return A_froward-Y\n",
    "    \n",
    "\n",
    "def forward(A_past, W, b, catches, activ_func):\n",
    "    Z = np.dot(X, W) + b\n",
    "    catches.append(Z)\n",
    "    if activ_func==\"relu\" :\n",
    "        A=relu(Z)\n",
    "        \n",
    "    if activ_func==\"softmax\" :  \n",
    "        A = np.exp(Z)\n",
    "        s = np.sum(A, axis = 1).reshape((A_past.shape[0], 1))\n",
    "        A = (A / s) + 1e-15\n",
    "    \n",
    "    return A\n",
    "\n",
    "def backward(da_forward, W, b, catches,Layer,active_func):\n",
    "    Z_L=catches[Layer]\n",
    "    if activ_func==\"relu\" :\n",
    "        active_dev=relu_dev(Z_L)\n",
    "    if activ_func==\"softmax\" : \n",
    "         softmax_dev(da_forward,Y)\n",
    "    dZ = A - Y\n",
    "    dW = np.dot(X.T, dZ) / X.shape[0]\n",
    "    db = np.sum(dZ, axis = 0) / X.shape[0]\n",
    "    \n",
    "    return dW, db\n",
    "\n",
    "def update(X, Y, W, b, output_size, learning_rate):\n",
    "    A = forward(X, W, b, output_size)\n",
    "    dW, db = backward(X, Y, A)\n",
    "    \n",
    "    J = -np.trace(np.dot(Y, np.log(A).T)) / X.shape[0]\n",
    "    \n",
    "    return W - learning_rate * dW, b - learning_rate * db, J\n",
    "\n",
    "def predict(X, W, b, output_size):\n",
    "    A = forward(X, W, b, output_size)\n",
    "    return np.argmax(A, axis = 1)"
   ]
  },
  {
   "cell_type": "code",
   "execution_count": null,
   "metadata": {},
   "outputs": [],
   "source": [
    "%%time\n",
    "m = 10000\n",
    "alpha = 0.1\n",
    "lambd = 0\n",
    "minibatch_size = 64\n",
    "iters = 500\n",
    "\n",
    "X = images.values[:m, :] / 256.\n",
    "Y = np.zeros((m, 10), dtype = np.int32)\n",
    "for i in range(m):\n",
    "    Y[i, labels.values[i, :]] = 1\n",
    "\n",
    "W = np.random.rand(X.shape[1], 10)\n",
    "b = np.random.rand(1, 10)\n",
    "\n",
    "scores = np.array([])\n",
    "\n",
    "for epoch in range(iters):\n",
    "    order = np.random.permutation(m)\n",
    "    epoch_score = 0\n",
    "    \n",
    "    for i in range(0, m, minibatch_size):\n",
    "        W, b, J = update(X[order[i : i + minibatch_size],:],\\\n",
    "                         Y[order[i : i + minibatch_size],:],\\\n",
    "                         W, b, 10, alpha)\n",
    "        #epoch_score += J\n",
    "        scores = np.append(scores, J)\n",
    "    \n",
    "print(np.sum(predict(X, W, b, 10) == labels.values[:m, :].reshape((m, ))) / m)\n",
    "plt.plot(scores)"
   ]
  }
 ],
 "metadata": {
  "kernelspec": {
   "display_name": "Python 3",
   "language": "python",
   "name": "python3"
  },
  "language_info": {
   "codemirror_mode": {
    "name": "ipython",
    "version": 3
   },
   "file_extension": ".py",
   "mimetype": "text/x-python",
   "name": "python",
   "nbconvert_exporter": "python",
   "pygments_lexer": "ipython3",
   "version": "3.6.7"
  }
 },
 "nbformat": 4,
 "nbformat_minor": 2
}
