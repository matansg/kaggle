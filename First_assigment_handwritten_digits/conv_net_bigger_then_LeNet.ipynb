{
 "cells": [
  {
   "cell_type": "code",
   "execution_count": 72,
   "metadata": {},
   "outputs": [],
   "source": [
    "from keras import layers\n",
    "from keras.layers import Input, Dense, Activation, ZeroPadding2D, BatchNormalization, Flatten, Conv2D\n",
    "from keras.layers import AveragePooling2D, MaxPooling2D, Dropout, GlobalMaxPooling2D, GlobalAveragePooling2D\n",
    "from keras.models import Model\n",
    "from keras.preprocessing import image\n",
    "from keras.utils import layer_utils\n",
    "from keras.utils.data_utils import get_file\n",
    "from keras.applications.imagenet_utils import preprocess_input\n",
    "\n",
    "import pandas as pd\n",
    "import numpy as np\n",
    "import matplotlib.pyplot as plt, matplotlib.image as mpimg\n",
    "%matplotlib inline\n",
    "from skimage import data\n",
    "from skimage.transform import rotate\n",
    "import tensorflow as tf\n",
    "\n",
    "config = tf.ConfigProto(device_count={\"CPU\": 8})\n",
    "keras.backend.tensorflow_backend.set_session(tf.Session(config=config))"
   ]
  },
  {
   "cell_type": "code",
   "execution_count": 50,
   "metadata": {},
   "outputs": [],
   "source": [
    "labeled_images = pd.read_csv('train.csv')\n",
    "images = labeled_images.iloc[:,1:]\n",
    "labels = labeled_images.iloc[:,:1]\n",
    "labeled_images_test = pd.read_csv('test.csv')\n",
    "images_test = labeled_images_test.iloc[:,:]\n",
    "\n",
    "m_cut_test=30000\n",
    "X = images.values[:m_cut_test, :]/256.\n",
    "Y = np.zeros((m_cut_test, 10), dtype = np.int32)\n",
    "X_test=images.values[m_cut_test:, :]/256.\n",
    "Y_test = np.zeros((images.values.shape[0]-m_cut_test, 10), dtype = np.int32)\n",
    "\n",
    "for i in range(images.values.shape[0]):\n",
    "    if i<m_cut_test:\n",
    "        Y[i, labels.values[i, :]] = 1\n",
    "    else:\n",
    "        Y_test[i-m_cut_test, labels.values[i, :]] = 1\n",
    "    \n",
    "picture=np.reshape(X[:,:],(X.shape[0],28,28))\n",
    "pictures2=np.zeros((X.shape[0],28,28))\n",
    "for i in range(X.shape[0]):\n",
    "    pictures2[i,:,:]= rotate(picture[i,:,:], angle=np.random.uniform(-20, 20),resize=False, mode='constant')\n",
    "\n",
    "#------------for creating fully connected NN classifier---------------------\n",
    "#X_augmented=np.reshape(pictures2,(X.shape[0],784))\n",
    "#X_all=np.concatenate((X,X_augmented),axis=0)\n",
    "X_test_all=np.reshape(X_test,(X_test.shape[0],28,28,1))\n",
    "X_all=np.concatenate((picture,pictures2),axis=0)\n",
    "X_all=np.reshape(X_all,(X_all.shape[0],X_all.shape[1],X_all.shape[2],1))\n",
    "Y_all=np.concatenate((Y,Y))\n"
   ]
  },
  {
   "cell_type": "code",
   "execution_count": 68,
   "metadata": {},
   "outputs": [],
   "source": [
    "#LeNet-5 with keras\n",
    "\n",
    "def model(input_shape):\n",
    "    # Define the input placeholder as a tensor with shape input_shape. Think of this as your input image!\n",
    "    X_input = Input(input_shape)\n",
    "    # Zero-Padding: pads the border of X_input with zeroes to make it LeNet-5 (32,32,3)\n",
    "    X = ZeroPadding2D((2, 2))(X_input)\n",
    "\n",
    "    # one-conv\n",
    "    X = Conv2D(8, (3, 3), strides = (1, 1), name = 'conv0',padding='same')(X)\n",
    "    X = Conv2D(8, (3, 3), strides = (1, 1), name = 'conv01',padding='same')(X)\n",
    "    X = MaxPooling2D((2, 2), name='max_pool0')(X)    \n",
    "    X = BatchNormalization(axis = 3, name = 'bn0')(X)\n",
    "    X = Activation('relu')(X)\n",
    "    \n",
    "    #16,16,8\n",
    "    \n",
    "    #two-conv\n",
    "    X = Conv2D(16, (3, 3), strides = (1, 1), name = 'conv1',padding='same')(X)\n",
    "    X = Conv2D(16, (3, 3), strides = (1, 1), name = 'conv11',padding='same')(X)\n",
    "    X = MaxPooling2D((2, 2),strides=2 ,name='max_pool1')(X)    \n",
    "    X = BatchNormalization(axis = 3, name = 'bn1')(X)\n",
    "    X = Activation('relu')(X)\n",
    "    \n",
    "    #8,8,16\n",
    "    X = Conv2D(32, (3, 3), strides = (1, 1), name = 'conv2',padding='same')(X)\n",
    "    X = Conv2D(32, (3, 3), strides = (1, 1), name = 'conv22',padding='same')(X)\n",
    "    X = MaxPooling2D((2, 2),strides=2 ,name='max_pool2')(X)    \n",
    "    X = BatchNormalization(axis = 3, name = 'bn2')(X)\n",
    "    X = Activation('relu')(X)\n",
    "\n",
    "    \n",
    "    \n",
    "\n",
    "    # FLATTEN X (means convert it to a vector) + FULLYCONNECTED\n",
    "    X = Flatten()(X)\n",
    "    X = Dense(256, activation='relu', name='fc0')(X)\n",
    "    X = Dense(10, activation='softmax', name='fc2')(X)\n",
    "    # Create model. This creates your Keras model instance, you'll use this instance to train/test the model.\n",
    "    model = Model(inputs = X_input, outputs = X, name='HappyModel')\n",
    "\n",
    "    return model"
   ]
  },
  {
   "cell_type": "code",
   "execution_count": 73,
   "metadata": {},
   "outputs": [
    {
     "name": "stdout",
     "output_type": "stream",
     "text": [
      "Epoch 1/20\n",
      "60000/60000 [==============================] - 105s 2ms/step - loss: 0.1183 - acc: 0.9632\n",
      "Epoch 2/20\n",
      "60000/60000 [==============================] - 101s 2ms/step - loss: 0.0528 - acc: 0.9833\n",
      "Epoch 3/20\n",
      "60000/60000 [==============================] - 101s 2ms/step - loss: 0.0395 - acc: 0.9878\n",
      "Epoch 4/20\n",
      "60000/60000 [==============================] - 101s 2ms/step - loss: 0.0300 - acc: 0.9902\n",
      "Epoch 5/20\n",
      "60000/60000 [==============================] - 101s 2ms/step - loss: 0.0251 - acc: 0.9917\n",
      "Epoch 6/20\n",
      "60000/60000 [==============================] - 101s 2ms/step - loss: 0.0206 - acc: 0.9933\n",
      "Epoch 7/20\n",
      "60000/60000 [==============================] - 102s 2ms/step - loss: 0.0175 - acc: 0.9947\n",
      "Epoch 8/20\n",
      "60000/60000 [==============================] - 101s 2ms/step - loss: 0.0166 - acc: 0.9946\n",
      "Epoch 9/20\n",
      "60000/60000 [==============================] - 101s 2ms/step - loss: 0.0140 - acc: 0.9955\n",
      "Epoch 10/20\n",
      "60000/60000 [==============================] - 101s 2ms/step - loss: 0.0134 - acc: 0.9957\n",
      "Epoch 11/20\n",
      "60000/60000 [==============================] - 101s 2ms/step - loss: 0.0123 - acc: 0.9962\n",
      "Epoch 12/20\n",
      "60000/60000 [==============================] - 101s 2ms/step - loss: 0.0107 - acc: 0.9967\n",
      "Epoch 13/20\n",
      "60000/60000 [==============================] - 101s 2ms/step - loss: 0.0108 - acc: 0.9966\n",
      "Epoch 14/20\n",
      "60000/60000 [==============================] - 101s 2ms/step - loss: 0.0110 - acc: 0.9970\n",
      "Epoch 15/20\n",
      "60000/60000 [==============================] - 101s 2ms/step - loss: 0.0086 - acc: 0.9976\n",
      "Epoch 16/20\n",
      "60000/60000 [==============================] - 102s 2ms/step - loss: 0.0096 - acc: 0.9974\n",
      "Epoch 17/20\n",
      "60000/60000 [==============================] - 102s 2ms/step - loss: 0.0074 - acc: 0.9978\n",
      "Epoch 18/20\n",
      "60000/60000 [==============================] - 101s 2ms/step - loss: 0.0083 - acc: 0.9974\n",
      "Epoch 19/20\n",
      "60000/60000 [==============================] - 101s 2ms/step - loss: 0.0080 - acc: 0.9978\n",
      "Epoch 20/20\n",
      "60000/60000 [==============================] - 175s 3ms/step - loss: 0.0058 - acc: 0.9987\n"
     ]
    },
    {
     "data": {
      "text/plain": [
       "<keras.callbacks.History at 0x58a96ac8>"
      ]
     },
     "execution_count": 73,
     "metadata": {},
     "output_type": "execute_result"
    }
   ],
   "source": [
    "happyModel=model(input_shape=(28, 28,1))\n",
    "happyModel.compile(optimizer = \"Adam\", loss ='categorical_crossentropy', metrics = [\"accuracy\"])\n",
    "happyModel.fit(x = X_all, y = Y_all, epochs = 20, batch_size = 16)"
   ]
  },
  {
   "cell_type": "code",
   "execution_count": 74,
   "metadata": {},
   "outputs": [
    {
     "name": "stdout",
     "output_type": "stream",
     "text": [
      "12000/12000 [==============================] - 5s 437us/step\n",
      "Loss = 0.05364633307147434\n",
      "Test Accuracy = 0.99075\n"
     ]
    }
   ],
   "source": [
    "preds = happyModel.evaluate(x = X_test_all, y = Y_test)\n",
    "print (\"Loss = \" + str(preds[0]))\n",
    "print (\"Test Accuracy = \" + str(preds[1]))"
   ]
  },
  {
   "cell_type": "code",
   "execution_count": 54,
   "metadata": {},
   "outputs": [
    {
     "name": "stdout",
     "output_type": "stream",
     "text": [
      "_________________________________________________________________\n",
      "Layer (type)                 Output Shape              Param #   \n",
      "=================================================================\n",
      "input_8 (InputLayer)         (None, 28, 28, 1)         0         \n",
      "_________________________________________________________________\n",
      "zero_padding2d_8 (ZeroPaddin (None, 32, 32, 1)         0         \n",
      "_________________________________________________________________\n",
      "dropout_5 (Dropout)          (None, 32, 32, 1)         0         \n",
      "_________________________________________________________________\n",
      "conv0 (Conv2D)               (None, 32, 32, 8)         80        \n",
      "_________________________________________________________________\n",
      "max_pool0 (MaxPooling2D)     (None, 16, 16, 8)         0         \n",
      "_________________________________________________________________\n",
      "bn0 (BatchNormalization)     (None, 16, 16, 8)         32        \n",
      "_________________________________________________________________\n",
      "activation_19 (Activation)   (None, 16, 16, 8)         0         \n",
      "_________________________________________________________________\n",
      "conv1 (Conv2D)               (None, 16, 16, 16)        1168      \n",
      "_________________________________________________________________\n",
      "max_pool1 (MaxPooling2D)     (None, 8, 8, 16)          0         \n",
      "_________________________________________________________________\n",
      "bn1 (BatchNormalization)     (None, 8, 8, 16)          64        \n",
      "_________________________________________________________________\n",
      "activation_20 (Activation)   (None, 8, 8, 16)          0         \n",
      "_________________________________________________________________\n",
      "conv2 (Conv2D)               (None, 8, 8, 32)          4640      \n",
      "_________________________________________________________________\n",
      "max_pool2 (MaxPooling2D)     (None, 4, 4, 32)          0         \n",
      "_________________________________________________________________\n",
      "bn2 (BatchNormalization)     (None, 4, 4, 32)          128       \n",
      "_________________________________________________________________\n",
      "activation_21 (Activation)   (None, 4, 4, 32)          0         \n",
      "_________________________________________________________________\n",
      "conv3 (Conv2D)               (None, 4, 4, 64)          18496     \n",
      "_________________________________________________________________\n",
      "max_pool3 (MaxPooling2D)     (None, 2, 2, 64)          0         \n",
      "_________________________________________________________________\n",
      "bn3 (BatchNormalization)     (None, 2, 2, 64)          256       \n",
      "_________________________________________________________________\n",
      "activation_22 (Activation)   (None, 2, 2, 64)          0         \n",
      "_________________________________________________________________\n",
      "flatten_8 (Flatten)          (None, 256)               0         \n",
      "_________________________________________________________________\n",
      "fc0 (Dense)                  (None, 120)               30840     \n",
      "_________________________________________________________________\n",
      "fc1 (Dense)                  (None, 84)                10164     \n",
      "_________________________________________________________________\n",
      "fc2 (Dense)                  (None, 10)                850       \n",
      "=================================================================\n",
      "Total params: 66,718\n",
      "Trainable params: 66,478\n",
      "Non-trainable params: 240\n",
      "_________________________________________________________________\n"
     ]
    }
   ],
   "source": [
    "happyModel.summary()"
   ]
  },
  {
   "cell_type": "code",
   "execution_count": 75,
   "metadata": {},
   "outputs": [
    {
     "name": "stdout",
     "output_type": "stream",
     "text": [
      "(28000, 28, 28, 1)\n"
     ]
    }
   ],
   "source": [
    "X_test_eval= images_test.values[:, :] / 256.\n",
    "X_test_eval=np.reshape(X_test_eval,(X_test_eval.shape[0],28,28,1))\n",
    "print(X_test_eval.shape)"
   ]
  },
  {
   "cell_type": "code",
   "execution_count": 76,
   "metadata": {},
   "outputs": [],
   "source": [
    "Y=happyModel.predict(X_test_eval)"
   ]
  },
  {
   "cell_type": "code",
   "execution_count": 77,
   "metadata": {},
   "outputs": [
    {
     "name": "stdout",
     "output_type": "stream",
     "text": [
      "(28000, 1)\n"
     ]
    }
   ],
   "source": [
    "Y_predict=np.argmax(Y, axis = 1).reshape(Y.shape[0],1) \n",
    "print(Y_predict.shape)\n",
    "\n",
    "df = pd.DataFrame(Y_predict[:,0],columns = ['Label'])\n",
    "df.index = df.index + 1\n",
    "df.to_csv('My_net_20_epoch_5.csv',index=True,index_label='ImageId')"
   ]
  },
  {
   "cell_type": "code",
   "execution_count": null,
   "metadata": {},
   "outputs": [],
   "source": []
  }
 ],
 "metadata": {
  "kernelspec": {
   "display_name": "Python 3",
   "language": "python",
   "name": "python3"
  },
  "language_info": {
   "codemirror_mode": {
    "name": "ipython",
    "version": 3
   },
   "file_extension": ".py",
   "mimetype": "text/x-python",
   "name": "python",
   "nbconvert_exporter": "python",
   "pygments_lexer": "ipython3",
   "version": "3.6.7"
  }
 },
 "nbformat": 4,
 "nbformat_minor": 2
}
